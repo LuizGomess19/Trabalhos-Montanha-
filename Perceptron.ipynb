{
  "nbformat": 4,
  "nbformat_minor": 0,
  "metadata": {
    "colab": {
      "provenance": [],
      "authorship_tag": "ABX9TyOOG6lgUC9+hxJs4f7/jBzQ",
      "include_colab_link": true
    },
    "kernelspec": {
      "name": "python3",
      "display_name": "Python 3"
    },
    "language_info": {
      "name": "python"
    }
  },
  "cells": [
    {
      "cell_type": "markdown",
      "metadata": {
        "id": "view-in-github",
        "colab_type": "text"
      },
      "source": [
        "<a href=\"https://colab.research.google.com/github/LuizGomess19/Trabalhos-Montanha-/blob/main/Perceptron.ipynb\" target=\"_parent\"><img src=\"https://colab.research.google.com/assets/colab-badge.svg\" alt=\"Open In Colab\"/></a>"
      ]
    },
    {
      "cell_type": "code",
      "execution_count": 2,
      "metadata": {
        "colab": {
          "base_uri": "https://localhost:8080/"
        },
        "id": "NMw5BHEhmtJO",
        "outputId": "12bb5456-063f-463e-eee5-9d073aac5d9e"
      },
      "outputs": [
        {
          "output_type": "stream",
          "name": "stdout",
          "text": [
            "Previsões:\n",
            "Nuvens: 0, Previsão Chuva: 0 => Levar Guarda-chuva? Não\n",
            "Nuvens: 0, Previsão Chuva: 1 => Levar Guarda-chuva? Sim\n",
            "Nuvens: 1, Previsão Chuva: 0 => Levar Guarda-chuva? Sim\n",
            "Nuvens: 1, Previsão Chuva: 1 => Levar Guarda-chuva? Sim\n"
          ]
        }
      ],
      "source": [
        "# Importando biblioteca\n",
        "from sklearn.linear_model import Perceptron\n",
        "\n",
        "# Dados de entrada\n",
        "X = [[0, 0], [0, 1], [1, 0], [1, 1]]\n",
        "\n",
        "# Saídas desejadas\n",
        "Y = [0, 1, 1, 1]\n",
        "\n",
        "# Criando e treinando o perceptron\n",
        "modelo = Perceptron()\n",
        "modelo.fit(X, Y)\n",
        "\n",
        "# Testando o modelo\n",
        "print(\"Previsões:\")\n",
        "testes = [[0,0], [0,1], [1,0], [1,1]]\n",
        "for teste in testes:\n",
        "  previsao = modelo.predict([teste])\n",
        "  print(f\"Nuvens: {teste[0]}, Previsão Chuva: {teste[1]} => Levar Guarda-chuva? {'Sim' if previsao[0] == 1 else 'Não'}\")"
      ]
    },
    {
      "cell_type": "code",
      "source": [
        "# Importando biblioteca\n",
        "from sklearn.linear_model import Perceptron\n",
        "\n",
        "# Dados de entrada\n",
        "X = [[0, 0, 0], [0, 1, 0], [1, 0, 0], [1, 1, 0], [0, 0, 1], [0, 1, 1], [1, 0, 1], [1, 1, 1]]\n",
        "\n",
        "# Saídas desejadas\n",
        "Y = [0, 1, 1, 1, 0, 0, 0, 0]\n",
        "\n",
        "# Criando e treinando o perceptron\n",
        "modelo = Perceptron()\n",
        "modelo.fit(X, Y)\n",
        "\n",
        "# Testando o modelo\n",
        "print(\"Previsões:\")\n",
        "testes = [[0, 0, 0], [0, 1, 0], [1, 0, 0], [1, 1, 0], [0, 0, 1], [0, 1, 1], [1, 0, 1], [1, 1, 1]]\n",
        "for teste in testes:\n",
        "  previsao = modelo.predict([teste])\n",
        "  print(f\"Ensolarado: {teste[0]}, final de Semana: {teste[1]}, Parque lotado {teste[2]} => Devo Ir ao Parque? {'Sim' if previsao[0] == 1 else 'Não'}\")"
      ],
      "metadata": {
        "colab": {
          "base_uri": "https://localhost:8080/"
        },
        "id": "T6mip1NknujC",
        "outputId": "94782c85-e41a-4885-88b8-314ae8827382"
      },
      "execution_count": 11,
      "outputs": [
        {
          "output_type": "stream",
          "name": "stdout",
          "text": [
            "Previsões:\n",
            "Ensolarado: 0, final de Semana: 0, Parque lotado 0 => Devo Ir ao Parque? Não\n",
            "Ensolarado: 0, final de Semana: 1, Parque lotado 0 => Devo Ir ao Parque? Sim\n",
            "Ensolarado: 1, final de Semana: 0, Parque lotado 0 => Devo Ir ao Parque? Sim\n",
            "Ensolarado: 1, final de Semana: 1, Parque lotado 0 => Devo Ir ao Parque? Sim\n",
            "Ensolarado: 0, final de Semana: 0, Parque lotado 1 => Devo Ir ao Parque? Não\n",
            "Ensolarado: 0, final de Semana: 1, Parque lotado 1 => Devo Ir ao Parque? Não\n",
            "Ensolarado: 1, final de Semana: 0, Parque lotado 1 => Devo Ir ao Parque? Não\n",
            "Ensolarado: 1, final de Semana: 1, Parque lotado 1 => Devo Ir ao Parque? Não\n"
          ]
        }
      ]
    }
  ]
}